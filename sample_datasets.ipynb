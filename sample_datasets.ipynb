{
 "cells": [
  {
   "cell_type": "code",
   "execution_count": 10,
   "metadata": {},
   "outputs": [
    {
     "name": "stdout",
     "output_type": "stream",
     "text": [
      "The autoreload extension is already loaded. To reload it, use:\n",
      "  %reload_ext autoreload\n"
     ]
    }
   ],
   "source": [
    "%load_ext autoreload\n",
    "%autoreload 2"
   ]
  },
  {
   "cell_type": "code",
   "execution_count": 29,
   "metadata": {},
   "outputs": [],
   "source": [
    "from os import path as osp\n",
    "import json\n",
    "import pickle"
   ]
  },
  {
   "cell_type": "code",
   "execution_count": 3,
   "metadata": {},
   "outputs": [],
   "source": [
    "import sys\n",
    "\n",
    "sys.path.insert(0, '../NSCL-PyTorch-Release/')\n",
    "sys.path.insert(0, 'my_imp/')"
   ]
  },
  {
   "cell_type": "code",
   "execution_count": 14,
   "metadata": {},
   "outputs": [],
   "source": [
    "from my_imp.data import gen_image_transform, gen_bbox_transform\n",
    "from vocab import Vocab"
   ]
  },
  {
   "cell_type": "code",
   "execution_count": 17,
   "metadata": {},
   "outputs": [],
   "source": [
    "from torch.utils.data import Dataset"
   ]
  },
  {
   "cell_type": "code",
   "execution_count": 15,
   "metadata": {},
   "outputs": [],
   "source": [
    "img_size = 256\n",
    "\n",
    "ans_dict_json = 'data/clevr_sample_mod/CLEVR_built_dictionaries.json'\n",
    "\n",
    "train_ds_root = None\n",
    "image_root = 'data/clevr_sample_mod/train/images/'\n",
    "vocab_json = 'data/clevr_sample_mod/train/vocab.json'\n",
    "train_scenes_json = 'data/clevr_sample_mod/train/scenes.json'\n",
    "train_questions_json = 'data/clevr_sample_mod/train/questions.json'\n",
    "\n",
    "val_ds_root = None\n",
    "val_image_root = 'data/clevr_sample_mod/val/images/'\n",
    "val_vocab_json = 'data/clevr_sample_mod/val/vocab.json'\n",
    "val_scenes_json = 'data/clevr_sample_mod/val/scenes.json'\n",
    "val_questions_json = 'data/clevr_sample_mod/val/questions.json'\n",
    "\n",
    "dataset_args = {\n",
    "    'train': {\n",
    "        'scenes_json': train_scenes_json,\n",
    "        'questions_json': train_questions_json,\n",
    "        'image_root': image_root,\n",
    "        'vocab_json': vocab_json,\n",
    "    },\n",
    "    'val': {\n",
    "        'scenes_json': val_scenes_json,\n",
    "        'questions_json': val_questions_json,\n",
    "        'image_root': val_image_root,\n",
    "        'vocab_json': val_vocab_json,\n",
    "    },\n",
    "}\n",
    "\n",
    "image_transform = gen_image_transform(img_size)\n",
    "bbox_transform = gen_bbox_transform(img_size)"
   ]
  },
  {
   "cell_type": "code",
   "execution_count": 20,
   "metadata": {},
   "outputs": [
    {
     "name": "stdout",
     "output_type": "stream",
     "text": [
      "Loading vocab from: \"data/clevr_sample_mod/train/vocab.json\".\n",
      "<vocab.Vocab object at 0x123220630>\n"
     ]
    }
   ],
   "source": [
    "class DatasetV2(Dataset):\n",
    "    def __init__(self,\n",
    "                 image_root,\n",
    "                 vocab_json,\n",
    "                 ans_dict_json,\n",
    "                 bbox_transform,\n",
    "                 ds_root=None\n",
    "                 image_transform=None,\n",
    "                ):\n",
    "        super().__init__()\n",
    "        \n",
    "        self.image_root = image_root\n",
    "        self.image_transform = image_transform\n",
    "        self.bbox_transform = bbox_transform\n",
    "        \n",
    "        print('Loading vocab from: \"{}\".'.format(vocab_json))\n",
    "        self.vocab = Vocab.from_json(vocab_json)\n",
    "        print('Loading answers from: \"{}\"'.format(ans_dict_json))\n",
    "        self.ans = Vocab.from_json(ans_dict_json)\n",
    "        \n",
    "        cached_scenes = osp.join(ds_root, 'scenes_cache.pkl') if ds_root else ''\n",
    "        if cached_scenes and osp.exists(cached_scenes):\n",
    "            print('==> using cached questions: {}'.format(cached_scenes))\n",
    "            with open(cached_scenes, 'rb') as f:\n",
    "                self.scenes = pickle.load(f)\n",
    "        else:\n",
    "            \n",
    "        \n",
    "        cached_scenes = osp.join(ds_root, 'scenes_cache.pkl') if ds_root else ''\n",
    "        if cached_scenes and osp.exists(cached_scenes):\n",
    "            print('==> using cached questions: {}'.format(cached_scenes))\n",
    "            with open(cached_scenes, 'rb') as f:\n",
    "                self.scenes = pickle.load(f)\n",
    "                    \n",
    "    def prepare_scenes(self,)\n",
    "        \n",
    "ds = DatasetV2(\n",
    "    image_root=image_root,\n",
    "    vocab_json=vocab_json,\n",
    "    image_transform=image_transform,\n",
    "    bbox_transform=bbox_transform,\n",
    "    \n",
    "    \n",
    ")"
   ]
  },
  {
   "cell_type": "code",
   "execution_count": 26,
   "metadata": {},
   "outputs": [
    {
     "data": {
      "text/plain": [
       "{'0': 1,\n",
       " '1': 2,\n",
       " '2': 3,\n",
       " '3': 4,\n",
       " '4': 5,\n",
       " '5': 6,\n",
       " '6': 7,\n",
       " '7': 8,\n",
       " '8': 9,\n",
       " '9': 10,\n",
       " ';': 11,\n",
       " '<ATTRIBUTES>': 117,\n",
       " '<BOS>': 113,\n",
       " '<CONCEPTS>': 115,\n",
       " '<REL_CONCEPTS>': 116,\n",
       " '<EOS>': 114,\n",
       " '<PAD>': 0,\n",
       " '<UNK>': 112,\n",
       " '?': 12,\n",
       " 'a': 13,\n",
       " 'an': 14,\n",
       " 'and': 15,\n",
       " 'another': 16,\n",
       " 'any': 17,\n",
       " 'anything': 18,\n",
       " 'are': 19,\n",
       " 'as': 20,\n",
       " 'b': 21,\n",
       " 'ball': 22,\n",
       " 'balls': 23,\n",
       " 'behind': 24,\n",
       " 'big': 25,\n",
       " 'block': 26,\n",
       " 'blocks': 27,\n",
       " 'blue': 28,\n",
       " 'both': 29,\n",
       " 'brown': 30,\n",
       " 'c': 31,\n",
       " 'color': 32,\n",
       " 'cube': 33,\n",
       " 'cubes': 34,\n",
       " 'cyan': 35,\n",
       " 'cylinder': 36,\n",
       " 'cylinders': 37,\n",
       " 'd': 38,\n",
       " 'do': 39,\n",
       " 'does': 40,\n",
       " 'e': 41,\n",
       " 'either': 42,\n",
       " 'else': 43,\n",
       " 'equal': 44,\n",
       " 'f': 45,\n",
       " 'fewer': 46,\n",
       " 'front': 47,\n",
       " 'g': 48,\n",
       " 'gray': 49,\n",
       " 'greater': 50,\n",
       " 'green': 51,\n",
       " 'h': 52,\n",
       " 'has': 53,\n",
       " 'have': 54,\n",
       " 'how': 55,\n",
       " 'i': 56,\n",
       " 'in': 57,\n",
       " 'is': 58,\n",
       " 'it': 59,\n",
       " 'its': 60,\n",
       " 'l': 61,\n",
       " 'large': 62,\n",
       " 'left': 63,\n",
       " 'less': 64,\n",
       " 'm': 65,\n",
       " 'made': 66,\n",
       " 'many': 67,\n",
       " 'material': 68,\n",
       " 'matte': 69,\n",
       " 'metal': 70,\n",
       " 'metallic': 71,\n",
       " 'more': 72,\n",
       " 'n': 73,\n",
       " 'number': 74,\n",
       " 'o': 75,\n",
       " 'object': 76,\n",
       " 'objects': 77,\n",
       " 'of': 78,\n",
       " 'on': 79,\n",
       " 'or': 80,\n",
       " 'other': 81,\n",
       " 'p': 82,\n",
       " 'purple': 83,\n",
       " 'r': 84,\n",
       " 'red': 85,\n",
       " 'right': 86,\n",
       " 'rubber': 87,\n",
       " 's': 88,\n",
       " 'same': 89,\n",
       " 'shape': 90,\n",
       " 'shiny': 91,\n",
       " 'side': 92,\n",
       " 'size': 93,\n",
       " 'small': 94,\n",
       " 'sphere': 95,\n",
       " 'spheres': 96,\n",
       " 't': 97,\n",
       " 'than': 98,\n",
       " 'that': 99,\n",
       " 'the': 100,\n",
       " 'there': 101,\n",
       " 'thing': 102,\n",
       " 'things': 103,\n",
       " 'tiny': 104,\n",
       " 'to': 105,\n",
       " 'u': 106,\n",
       " 'visible': 107,\n",
       " 'w': 108,\n",
       " 'what': 109,\n",
       " 'y': 110,\n",
       " 'yellow': 111}"
      ]
     },
     "execution_count": 26,
     "metadata": {},
     "output_type": "execute_result"
    }
   ],
   "source": [
    "ds.vocab.word2idx"
   ]
  },
  {
   "cell_type": "code",
   "execution_count": 27,
   "metadata": {},
   "outputs": [],
   "source": [
    "with open(ans_dict_json, 'r') as f:\n",
    "    data = json.load(f)"
   ]
  },
  {
   "cell_type": "code",
   "execution_count": 28,
   "metadata": {},
   "outputs": [
    {
     "data": {
      "text/plain": [
       "{'yes': 0,\n",
       " '2': 1,\n",
       " 'no': 2,\n",
       " 'rubber': 3,\n",
       " 'large': 4,\n",
       " '0': 5,\n",
       " 'sphere': 6,\n",
       " 'gray': 7,\n",
       " 'cube': 8,\n",
       " 'blue': 9,\n",
       " 'brown': 10,\n",
       " '1': 11,\n",
       " 'yellow': 12,\n",
       " 'purple': 13,\n",
       " 'cylinder': 14,\n",
       " 'small': 15,\n",
       " 'green': 16,\n",
       " 'metal': 17,\n",
       " '3': 18,\n",
       " '4': 19,\n",
       " 'cyan': 20,\n",
       " '6': 21,\n",
       " 'red': 22,\n",
       " '5': 23,\n",
       " '8': 24,\n",
       " '7': 25,\n",
       " '9': 26,\n",
       " '10': 27}"
      ]
     },
     "execution_count": 28,
     "metadata": {},
     "output_type": "execute_result"
    }
   ],
   "source": [
    "data"
   ]
  },
  {
   "cell_type": "code",
   "execution_count": null,
   "metadata": {},
   "outputs": [],
   "source": []
  }
 ],
 "metadata": {
  "kernelspec": {
   "display_name": "Python 3",
   "language": "python",
   "name": "python3"
  },
  "language_info": {
   "codemirror_mode": {
    "name": "ipython",
    "version": 3
   },
   "file_extension": ".py",
   "mimetype": "text/x-python",
   "name": "python",
   "nbconvert_exporter": "python",
   "pygments_lexer": "ipython3",
   "version": "3.7.3"
  },
  "latex_envs": {
   "LaTeX_envs_menu_present": true,
   "autoclose": false,
   "autocomplete": true,
   "bibliofile": "biblio.bib",
   "cite_by": "apalike",
   "current_citInitial": 1,
   "eqLabelWithNumbers": true,
   "eqNumInitial": 1,
   "hotkeys": {
    "equation": "Ctrl-E",
    "itemize": "Ctrl-I"
   },
   "labels_anchors": false,
   "latex_user_defs": false,
   "report_style_numbering": false,
   "user_envs_cfg": false
  },
  "varInspector": {
   "cols": {
    "lenName": 16,
    "lenType": 16,
    "lenVar": 40
   },
   "kernels_config": {
    "python": {
     "delete_cmd_postfix": "",
     "delete_cmd_prefix": "del ",
     "library": "var_list.py",
     "varRefreshCmd": "print(var_dic_list())"
    },
    "r": {
     "delete_cmd_postfix": ") ",
     "delete_cmd_prefix": "rm(",
     "library": "var_list.r",
     "varRefreshCmd": "cat(var_dic_list()) "
    }
   },
   "types_to_exclude": [
    "module",
    "function",
    "builtin_function_or_method",
    "instance",
    "_Feature"
   ],
   "window_display": false
  }
 },
 "nbformat": 4,
 "nbformat_minor": 2
}
